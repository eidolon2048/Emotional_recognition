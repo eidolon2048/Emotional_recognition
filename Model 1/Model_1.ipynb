{
 "cells": [
  {
   "cell_type": "markdown",
   "metadata": {
    "id": "SfQT0uMFpets"
   },
   "source": [
    "# 1.Understand how picture works"
   ]
  },
  {
   "cell_type": "code",
   "execution_count": 1,
   "metadata": {
    "id": "zwhghi_bnIai"
   },
   "outputs": [
    {
     "name": "stderr",
     "output_type": "stream",
     "text": [
      "2023-03-30 10:28:45.315566: I tensorflow/core/platform/cpu_feature_guard.cc:193] This TensorFlow binary is optimized with oneAPI Deep Neural Network Library (oneDNN) to use the following CPU instructions in performance-critical operations:  SSE4.1 SSE4.2\n",
      "To enable them in other operations, rebuild TensorFlow with the appropriate compiler flags.\n"
     ]
    }
   ],
   "source": [
    "#Import & install\n",
    "\n",
    "import cv2\n",
    "import matplotlib.pyplot as plt\n",
    "import pandas as pd\n",
    "\n",
    "\n",
    "from deepface import DeepFace"
   ]
  },
  {
   "attachments": {},
   "cell_type": "markdown",
   "metadata": {},
   "source": [
    "# 3. Real time video"
   ]
  },
  {
   "cell_type": "code",
   "execution_count": 1,
   "metadata": {},
   "outputs": [
    {
     "name": "stderr",
     "output_type": "stream",
     "text": [
      "2023-03-30 10:13:54.420242: I tensorflow/core/platform/cpu_feature_guard.cc:193] This TensorFlow binary is optimized with oneAPI Deep Neural Network Library (oneDNN) to use the following CPU instructions in performance-critical operations:  SSE4.1 SSE4.2\n",
      "To enable them in other operations, rebuild TensorFlow with the appropriate compiler flags.\n",
      "Action: emotion: 100%|██████████| 1/1 [00:00<00:00,  6.03it/s]\n",
      "Action: emotion: 100%|██████████| 1/1 [00:00<00:00, 22.01it/s]\n",
      "Action: emotion: 100%|██████████| 1/1 [00:00<00:00, 22.44it/s]\n",
      "Action: emotion: 100%|██████████| 1/1 [00:00<00:00, 22.48it/s]\n",
      "Action: emotion: 100%|██████████| 1/1 [00:00<00:00, 23.42it/s]\n",
      "Action: emotion: 100%|██████████| 1/1 [00:00<00:00, 23.21it/s]\n",
      "Action: emotion: 100%|██████████| 1/1 [00:00<00:00, 23.10it/s]\n",
      "Action: emotion: 100%|██████████| 1/1 [00:00<00:00, 23.59it/s]\n",
      "Action: emotion: 100%|██████████| 1/1 [00:00<00:00, 22.76it/s]\n",
      "Action: emotion: 100%|██████████| 1/1 [00:00<00:00, 23.56it/s]\n",
      "Action: emotion: 100%|██████████| 1/1 [00:00<00:00, 23.03it/s]\n",
      "Action: emotion: 100%|██████████| 1/1 [00:00<00:00, 23.14it/s]\n",
      "Action: emotion: 100%|██████████| 1/1 [00:00<00:00, 21.93it/s]\n",
      "Action: emotion: 100%|██████████| 1/1 [00:00<00:00, 23.80it/s]\n",
      "Action: emotion: 100%|██████████| 1/1 [00:00<00:00, 22.44it/s]\n",
      "Action: emotion: 100%|██████████| 1/1 [00:00<00:00, 21.76it/s]\n",
      "Action: emotion: 100%|██████████| 1/1 [00:00<00:00, 21.25it/s]\n",
      "Action: emotion: 100%|██████████| 1/1 [00:00<00:00, 21.11it/s]\n",
      "Action: emotion: 100%|██████████| 1/1 [00:00<00:00, 22.12it/s]\n",
      "Action: emotion: 100%|██████████| 1/1 [00:00<00:00, 23.25it/s]\n",
      "Action: emotion: 100%|██████████| 1/1 [00:00<00:00, 22.93it/s]\n",
      "Action: emotion: 100%|██████████| 1/1 [00:00<00:00, 19.75it/s]\n",
      "Action: emotion: 100%|██████████| 1/1 [00:00<00:00, 22.19it/s]\n",
      "Action: emotion: 100%|██████████| 1/1 [00:00<00:00, 23.38it/s]\n",
      "Action: emotion: 100%|██████████| 1/1 [00:00<00:00, 22.66it/s]\n",
      "Action: emotion: 100%|██████████| 1/1 [00:00<00:00, 21.96it/s]\n",
      "Action: emotion: 100%|██████████| 1/1 [00:00<00:00, 22.30it/s]\n",
      "Action: emotion: 100%|██████████| 1/1 [00:00<00:00, 22.43it/s]\n",
      "Action: emotion: 100%|██████████| 1/1 [00:00<00:00, 21.51it/s]\n",
      "Action: emotion: 100%|██████████| 1/1 [00:00<00:00, 22.55it/s]\n",
      "Action: emotion: 100%|██████████| 1/1 [00:00<00:00, 19.68it/s]\n",
      "Action: emotion: 100%|██████████| 1/1 [00:00<00:00, 23.09it/s]\n",
      "Action: emotion: 100%|██████████| 1/1 [00:00<00:00, 22.55it/s]\n",
      "Action: emotion: 100%|██████████| 1/1 [00:00<00:00, 22.47it/s]\n",
      "Action: emotion: 100%|██████████| 1/1 [00:00<00:00, 23.41it/s]\n",
      "Action: emotion: 100%|██████████| 1/1 [00:00<00:00, 22.26it/s]\n",
      "Action: emotion: 100%|██████████| 1/1 [00:00<00:00, 23.52it/s]\n",
      "Action: emotion: 100%|██████████| 1/1 [00:00<00:00, 22.92it/s]\n",
      "Action: emotion: 100%|██████████| 1/1 [00:00<00:00, 23.16it/s]\n",
      "Action: emotion: 100%|██████████| 1/1 [00:00<00:00, 20.85it/s]\n",
      "Action: emotion: 100%|██████████| 1/1 [00:00<00:00, 21.82it/s]\n",
      "Action: emotion: 100%|██████████| 1/1 [00:00<00:00, 22.76it/s]\n",
      "Action: emotion: 100%|██████████| 1/1 [00:00<00:00, 22.58it/s]\n",
      "Action: emotion: 100%|██████████| 1/1 [00:00<00:00, 22.63it/s]\n",
      "Action: emotion: 100%|██████████| 1/1 [00:00<00:00, 23.19it/s]\n",
      "Action: emotion: 100%|██████████| 1/1 [00:00<00:00, 21.53it/s]\n",
      "Action: emotion: 100%|██████████| 1/1 [00:00<00:00, 23.12it/s]\n",
      "Action: emotion: 100%|██████████| 1/1 [00:00<00:00, 24.01it/s]\n",
      "Action: emotion: 100%|██████████| 1/1 [00:00<00:00, 18.74it/s]\n",
      "Action: emotion: 100%|██████████| 1/1 [00:00<00:00, 22.88it/s]"
     ]
    }
   ],
   "source": [
    "import cv2\n",
    "import matplotlib.pyplot as plt\n",
    "import pandas as pd\n",
    "from deepface import DeepFace\n",
    "\n",
    "frameWidth = 224\n",
    "frameHeight = 224\n",
    "cap = cv2.VideoCapture(1)\n",
    "cap.set(3, frameWidth)\n",
    "cap.set(4, frameHeight)\n",
    "cap.set(10,150)\n",
    "faceCascade = cv2.CascadeClassifier(cv2.data.haarcascades + \"haarcascade_frontalface_default.xml\")\n",
    "\n",
    "while cap.isOpened():\n",
    "    success, img = cap.read()\n",
    "    if success:\n",
    "\n",
    "        ret,frame = cap.read()   #retiving\n",
    "        result = DeepFace.analyze(frame, actions = [\"emotion\"], enforce_detection=False)\n",
    "\n",
    "        # Draw rectangle across the face\n",
    "        gray = cv2.cvtColor(frame, cv2.COLOR_BGR2GRAY)\n",
    "        faces = faceCascade.detectMultiScale(gray, 1.1, 4)\n",
    "\n",
    "        for (x, y, w, h) in faces:\n",
    "            cv2.rectangle(img,(x, y), (x+w, y+h), (0, 255, 0), 2)\n",
    "\n",
    "        # Add lable of emotion\n",
    "        font = cv2.FONT_HERSHEY_SIMPLEX\n",
    "        \n",
    "        #use putText() method for inserting text on video\n",
    "        cv2.putText(frame, result[0][\"dominant_emotion\"],\n",
    "                        (10, 250), font, 3,\n",
    "                        (100, 0, 200), 3,\n",
    "                        cv2.LINE_4);\n",
    "        cv2.imshow(\"Demo video\", frame)\n",
    "        if cv2.waitKey(2) & 0xFF == ord(\"q\"):\n",
    "            break\n",
    "\n",
    "# cap.realease()\n",
    "# cv2.destroyALLWindows"
   ]
  },
  {
   "cell_type": "code",
   "execution_count": 2,
   "metadata": {},
   "outputs": [
    {
     "ename": "KeyboardInterrupt",
     "evalue": "",
     "output_type": "error",
     "traceback": [
      "\u001b[0;31m---------------------------------------------------------------------------\u001b[0m",
      "\u001b[0;31mKeyboardInterrupt\u001b[0m                         Traceback (most recent call last)",
      "Cell \u001b[0;32mIn[2], line 12\u001b[0m\n\u001b[1;32m     10\u001b[0m \u001b[39mif\u001b[39;00m success:\n\u001b[1;32m     11\u001b[0m     cv2\u001b[39m.\u001b[39mimshow(\u001b[39m\"\u001b[39m\u001b[39mResult\u001b[39m\u001b[39m\"\u001b[39m, img)\n\u001b[0;32m---> 12\u001b[0m     \u001b[39mif\u001b[39;00m cv2\u001b[39m.\u001b[39;49mwaitKey(\u001b[39m1\u001b[39;49m) \u001b[39m&\u001b[39m \u001b[39m0xFF\u001b[39m \u001b[39m==\u001b[39m \u001b[39mord\u001b[39m(\u001b[39m'\u001b[39m\u001b[39mq\u001b[39m\u001b[39m'\u001b[39m):\n\u001b[1;32m     13\u001b[0m         \u001b[39mbreak\u001b[39;00m\n",
      "\u001b[0;31mKeyboardInterrupt\u001b[0m: "
     ]
    }
   ],
   "source": [
    "# frameWidth = 224\n",
    "# frameHeight = 224\n",
    "# cap = cv2.VideoCapture(1)\n",
    "# cap.set(3, frameWidth)\n",
    "# cap.set(4, frameHeight)\n",
    "# cap.set(10,150)\n",
    "\n",
    "# while cap.isOpened():\n",
    "#     success, img = cap.read()\n",
    "#     if success:\n",
    "#         cv2.imshow(\"Result\", img)\n",
    "#         if cv2.waitKey(1) & 0xFF == ord('q'):\n",
    "#             break"
   ]
  },
  {
   "cell_type": "code",
   "execution_count": 2,
   "metadata": {},
   "outputs": [],
   "source": [
    "# faceCascade = cv2.CascadeClassifier(cv2.data.haarcascades + \"haarcascade_frontalface_default.xml\")\n",
    "\n",
    "# #connect to webcam\n",
    "# frameWidth = 224\n",
    "# frameHeight = 224\n",
    "# cap = cv2.VideoCapture(1)\n",
    "# cap.set(3, frameWidth)\n",
    "# cap.set(4, frameHeight)\n",
    "# cap.set(10,150)\n",
    "\n",
    "# #Checking webcam connection\n",
    "# if not cap.isOpened():\n",
    "#    cap = cv2.VideoCapture(0)\n",
    "# if not cap.isOpened():\n",
    "#    raise IOError(\"Cannot open Webcam\")\n",
    "\n",
    "# while True:\n",
    "#     ret,frame = cap.read()   #retiving\n",
    "#     result = DeepFace.analyze(frame, actions = [\"emotion\"], enforce_detection=False)\n",
    "\n",
    "    \n",
    "#     # Draw rectangle across the face\n",
    "#     gray = cv2.cvtColor(frame, cv2.COLOR_BGR2GRAY)\n",
    "#     faces = faceCascade.detectMultiScale(gray, 1.1, 4)\n",
    "\n",
    "#     for (x, y, w, h) in faces:\n",
    "#         cv2.rectangle(img,(x, y), (x+w, y+h), (0, 255, 0), 2)\n",
    "\n",
    "#     # Add lable of emotion\n",
    "#     font = cv2.FONT_HERSHEY_SIMPLEX\n",
    "#     #use putText() method for inserting text on video\n",
    "#     cv2.putText(frame, result[0][\"dominant_emotion\"],\n",
    "#                     (10, 250), font, 3,\n",
    "#                     (100, 0, 200), 3,\n",
    "#                     cv2.LINE_4);\n",
    "#     cv2.imshow(\"Demo video\", frame)\n",
    "#     if cv2.waitKey(2) & 0xFF == ord(\"q\"):\n",
    "#         break\n",
    "\n",
    "# cap.realease()\n",
    "# cv2.destroyALLWindows"
   ]
  },
  {
   "cell_type": "code",
   "execution_count": null,
   "metadata": {},
   "outputs": [],
   "source": [
    "# #connect to webcam\n",
    "# cap = cv2.VideoCapture(1)\n",
    "# #Checking webcam connection\n",
    "# if not cap.isOpened():\n",
    "#    cap = cv2.VideoCapture(0)\n",
    "# if not cap.isOpened():\n",
    "#    raise IOError(\"Cannot open Webcam\")\n",
    "   \n",
    "# while True:\n",
    "#     ret,frame = cap.read()\n",
    "#     result = DeepFace.analyze(frame, actions = [\"emotion\"]) \n",
    "    \n",
    "#     # Draw rectangle across the face\n",
    "#     gray = cv2.cvtColor(frame, cv2.COLOR_BGR2GRAY)\n",
    "#     faces = faceCascade.detectMultiScale(gray, 1.1, 4)\n",
    "\n",
    "#     for (x, y, w, h) in faces:\n",
    "#         cv2.rectangle(img,(x, y), (x+w, y+h), (0, 255, 0), 2)\n",
    "\n",
    "#     # Add lable of emotion\n",
    "#     font = cv2.FONT_HERSHEY_SIMPLEX\n",
    "\n",
    "#     #use putText() method for inserting text on video\n",
    "#     cv2.putText(img, result[0][\"dominant_emotion\"],\n",
    "#                     (10, 250), font, 3,\n",
    "#                     (100, 0, 200), 3,\n",
    "#                     cv2.LINE_4);\n",
    "#     cv2.imshow(\"Demo video\", frame)\n",
    "#     if cv2.waitKey(2) & 0xFF == ord(\"q\"):\n",
    "#        break\n",
    "\n",
    "# cap.realease()\n",
    "# cv2.destroyALLWindows"
   ]
  },
  {
   "cell_type": "code",
   "execution_count": 1,
   "metadata": {},
   "outputs": [
    {
     "name": "stderr",
     "output_type": "stream",
     "text": [
      "2023-04-11 14:32:21.142877: I tensorflow/core/platform/cpu_feature_guard.cc:193] This TensorFlow binary is optimized with oneAPI Deep Neural Network Library (oneDNN) to use the following CPU instructions in performance-critical operations:  SSE4.1 SSE4.2\n",
      "To enable them in other operations, rebuild TensorFlow with the appropriate compiler flags.\n",
      "Action: emotion: 100%|██████████| 1/1 [00:00<00:00,  5.88it/s]\n",
      "Action: emotion: 100%|██████████| 1/1 [00:00<00:00, 22.49it/s]\n",
      "Action: emotion: 100%|██████████| 1/1 [00:00<00:00, 24.17it/s]\n",
      "Action: emotion: 100%|██████████| 1/1 [00:00<00:00, 23.71it/s]\n",
      "Action: emotion: 100%|██████████| 1/1 [00:00<00:00, 25.24it/s]\n",
      "Action: emotion: 100%|██████████| 1/1 [00:00<00:00, 24.69it/s]\n",
      "Action: emotion: 100%|██████████| 1/1 [00:00<00:00, 24.33it/s]\n",
      "Action: emotion: 100%|██████████| 1/1 [00:00<00:00, 24.86it/s]\n",
      "Action: emotion: 100%|██████████| 1/1 [00:00<00:00, 24.68it/s]\n",
      "Action: emotion: 100%|██████████| 1/1 [00:00<00:00, 25.16it/s]\n",
      "Action: emotion: 100%|██████████| 1/1 [00:00<00:00, 25.58it/s]\n",
      "Action: emotion: 100%|██████████| 1/1 [00:00<00:00, 24.37it/s]\n"
     ]
    }
   ],
   "source": [
    "import cv2\n",
    "import matplotlib.pyplot as plt\n",
    "import pandas as pd\n",
    "from deepface import DeepFace\n",
    "\n",
    "\n",
    "frameWidth = 1280\n",
    "frameHeight = 720\n",
    "cap = cv2.VideoCapture(1)\n",
    "cap.set(3, frameWidth)\n",
    "cap.set(4, frameHeight)\n",
    "cap.set(10,150)\n",
    "cap.set(cv2.CAP_PROP_FPS, 60)\n",
    "\n",
    "faceCascade = cv2.CascadeClassifier(cv2.data.haarcascades + \"haarcascade_frontalface_default.xml\")\n",
    "\n",
    "while cap.isOpened():\n",
    "    success, img = cap.read()\n",
    "\n",
    "\n",
    "    if success:\n",
    "\n",
    "        ret,frame = cap.read()   #retiving\n",
    "\n",
    "        result = DeepFace.analyze(frame, actions = [\"emotion\"], enforce_detection=False)\n",
    "        gray = cv2.cvtColor(frame, cv2.COLOR_BGR2GRAY)\n",
    "\n",
    "        # Draw rectangle across the face\n",
    "        faces = faceCascade.detectMultiScale(gray, scaleFactor=1.1, minNeighbors=4)\n",
    "\n",
    "        for (x, y, w, h) in faces:\n",
    "            frame = cv2.rectangle(img,(x, y), (x+w, y+h), (0, 255, 0), 2)\n",
    "\n",
    "        # Add lable of emotion\n",
    "        font = cv2.FONT_HERSHEY_SIMPLEX\n",
    "        \n",
    "        #use putText() method for inserting text on video\n",
    "        cv2.putText(frame, result[0][\"dominant_emotion\"],\n",
    "                    (10, 70), font, 1.7,\n",
    "                    (100, 0, 200), 2,\n",
    "                    cv2.LINE_8);\n",
    "        \n",
    "        cv2.imshow(\"Dominant Emotion\", frame)\n",
    "        k = cv2.waitKey(100) & 0xFF \n",
    "        if k == 27:\n",
    "            break\n",
    "\n",
    "cap.release()\n",
    "cv2.destroyAllWindows()"
   ]
  },
  {
   "cell_type": "code",
   "execution_count": null,
   "metadata": {},
   "outputs": [],
   "source": []
  }
 ],
 "metadata": {
  "colab": {
   "provenance": []
  },
  "kernelspec": {
   "display_name": "Python 3 (ipykernel)",
   "language": "python",
   "name": "python3"
  },
  "language_info": {
   "codemirror_mode": {
    "name": "ipython",
    "version": 3
   },
   "file_extension": ".py",
   "mimetype": "text/x-python",
   "name": "python",
   "nbconvert_exporter": "python",
   "pygments_lexer": "ipython3",
   "version": "3.10.10"
  }
 },
 "nbformat": 4,
 "nbformat_minor": 4
}
