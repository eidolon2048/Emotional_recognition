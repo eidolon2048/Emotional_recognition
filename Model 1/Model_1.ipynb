{
 "cells": [
  {
   "attachments": {},
   "cell_type": "markdown",
   "metadata": {
    "id": "SfQT0uMFpets"
   },
   "source": [
    "# 1.Understand how picture works"
   ]
  },
  {
   "cell_type": "code",
   "execution_count": 1,
   "metadata": {
    "id": "zwhghi_bnIai"
   },
   "outputs": [
    {
     "name": "stderr",
     "output_type": "stream",
     "text": [
      "2023-03-30 10:28:45.315566: I tensorflow/core/platform/cpu_feature_guard.cc:193] This TensorFlow binary is optimized with oneAPI Deep Neural Network Library (oneDNN) to use the following CPU instructions in performance-critical operations:  SSE4.1 SSE4.2\n",
      "To enable them in other operations, rebuild TensorFlow with the appropriate compiler flags.\n"
     ]
    }
   ],
   "source": [
    "#Import & install\n",
    "\n",
    "import cv2\n",
    "import matplotlib.pyplot as plt\n",
    "import pandas as pd\n",
    "\n",
    "\n",
    "from deepface import DeepFace"
   ]
  },
  {
   "attachments": {},
   "cell_type": "markdown",
   "metadata": {},
   "source": [
    "# 3. Real time video"
   ]
  },
  {
   "cell_type": "code",
   "execution_count": 3,
   "metadata": {},
   "outputs": [
    {
     "name": "stderr",
     "output_type": "stream",
     "text": [
      "Action: emotion: 100%|██████████| 1/1 [00:00<00:00, 16.41it/s]\n",
      "Action: emotion: 100%|██████████| 1/1 [00:00<00:00, 20.88it/s]\n",
      "Action: emotion: 100%|██████████| 1/1 [00:00<00:00, 23.82it/s]\n",
      "Action: emotion: 100%|██████████| 1/1 [00:00<00:00, 22.61it/s]\n",
      "Action: emotion: 100%|██████████| 1/1 [00:00<00:00, 24.92it/s]\n",
      "Action: emotion: 100%|██████████| 1/1 [00:00<00:00, 24.31it/s]\n",
      "Action: emotion: 100%|██████████| 1/1 [00:00<00:00, 21.86it/s]\n",
      "Action: emotion: 100%|██████████| 1/1 [00:00<00:00, 24.60it/s]\n",
      "Action: emotion: 100%|██████████| 1/1 [00:00<00:00, 24.92it/s]\n",
      "Action: emotion: 100%|██████████| 1/1 [00:00<00:00, 24.95it/s]\n"
     ]
    }
   ],
   "source": [
    "import cv2\n",
    "import matplotlib.pyplot as plt\n",
    "import pandas as pd\n",
    "from deepface import DeepFace\n",
    "\n",
    "\n",
    "frameWidth = 1280\n",
    "frameHeight = 720\n",
    "cap = cv2.VideoCapture(1) # or set 0\n",
    "cap.set(3, frameWidth)\n",
    "cap.set(4, frameHeight)\n",
    "cap.set(10,150)\n",
    "cap.set(cv2.CAP_PROP_FPS, 60)\n",
    "\n",
    "faceCascade = cv2.CascadeClassifier(cv2.data.haarcascades + \"haarcascade_frontalface_default.xml\")\n",
    "\n",
    "while cap.isOpened():\n",
    "    success, img = cap.read()\n",
    "\n",
    "    if success:\n",
    "\n",
    "        ret,frame = cap.read()   #retiving\n",
    "        result = DeepFace.analyze(frame, actions = [\"emotion\"], enforce_detection=False)\n",
    "        gray = cv2.cvtColor(frame, cv2.COLOR_BGR2GRAY)\n",
    "\n",
    "        # Draw rectangle across the face\n",
    "        faces = faceCascade.detectMultiScale(gray, scaleFactor=1.1, minNeighbors=4)\n",
    "\n",
    "        for (x, y, w, h) in faces:\n",
    "            frame = cv2.rectangle(img=img, pt1=(x, y), pt2=(x+w, y+h), color=(0, 255, 0), thickness=2)\n",
    "\n",
    "        #use putText() method for inserting text on video\n",
    "        cv2.putText(frame, result[0][\"dominant_emotion\"], (10, 70), cv2.FONT_HERSHEY_SIMPLEX, 1.7, (100, 0, 200), 2, cv2.LINE_8);\n",
    "        \n",
    "        cv2.imshow(\"Dominant Emotion\", frame)\n",
    "        k = cv2.waitKey(100) & 0xFF \n",
    "        if k == 27:\n",
    "            break\n",
    "\n",
    "cap.release()\n",
    "cv2.destroyAllWindows()"
   ]
  }
 ],
 "metadata": {
  "colab": {
   "provenance": []
  },
  "kernelspec": {
   "display_name": "Python 3 (ipykernel)",
   "language": "python",
   "name": "python3"
  },
  "language_info": {
   "codemirror_mode": {
    "name": "ipython",
    "version": 3
   },
   "file_extension": ".py",
   "mimetype": "text/x-python",
   "name": "python",
   "nbconvert_exporter": "python",
   "pygments_lexer": "ipython3",
   "version": "3.10.10"
  }
 },
 "nbformat": 4,
 "nbformat_minor": 4
}
